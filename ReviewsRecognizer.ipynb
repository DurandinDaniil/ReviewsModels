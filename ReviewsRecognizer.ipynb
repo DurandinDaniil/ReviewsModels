{
 "cells": [
  {
   "cell_type": "code",
   "execution_count": 12,
   "metadata": {},
   "outputs": [],
   "source": [
    "import pandas as pd\n",
    "import numpy as np\n",
    "import os\n",
    "import matplotlib.pyplot as plt\n",
    "from gensim.models import Word2Vec\n",
    "from sklearn.model_selection import train_test_split\n",
    "\n",
    "import tensorflow as tf\n",
    "\n",
    "from tensorflow.keras.layers import Dense, Input, LSTM, Embedding, Dropout,SpatialDropout1D, Bidirectional\n",
    "from tensorflow.keras.models import Model\n",
    "from tensorflow.keras.optimizers import Adam\n",
    "\n",
    "from tensorflow.keras.preprocessing.sequence import pad_sequences\n",
    "\n",
    "import re\n",
    "import re\n",
    "import nltk\n",
    "from nltk.corpus import stopwords\n",
    "from nltk.stem.porter import PorterStemmer\n",
    "from sklearn.feature_extraction.text import CountVectorizer, TfidfVectorizer\n",
    "\n",
    "from sklearn.ensemble import RandomForestClassifier, RandomForestRegressor"
   ]
  },
  {
   "cell_type": "code",
   "execution_count": 2,
   "metadata": {},
   "outputs": [],
   "source": [
    "df_train = pd.DataFrame(columns = ['text', 'rating', 'label'])\n",
    "df_tets = pd.DataFrame(columns = ['text', 'rating', 'label'])"
   ]
  },
  {
   "cell_type": "code",
   "execution_count": 3,
   "metadata": {},
   "outputs": [],
   "source": [
    "def read_data(purpose):\n",
    "    df = pd.DataFrame(columns = ['text', 'rating', 'label'])\n",
    "    for pos_neg in ['pos', 'neg']:\n",
    "        path = 'C:/Users/duran/Downloads/aclImdb' + '/{}/{}'.format(purpose, pos_neg)\n",
    "        label = 1 if pos_neg == 'pos' else 0\n",
    "        for file in os.listdir(path):\n",
    "            with open(os.path.join(path,file)) as f:\n",
    "                try:\n",
    "                    text = f.read()\n",
    "                except UnicodeDecodeError:\n",
    "                    continue\n",
    "                    \n",
    "                rating = file.split('_')[1].split('.')[0]\n",
    "                df = df.append({'text': text, 'rating': rating, 'label' :label}, ignore_index=True)\n",
    "    return df"
   ]
  },
  {
   "cell_type": "code",
   "execution_count": 4,
   "metadata": {},
   "outputs": [],
   "source": [
    "df_train = read_data('train')\n",
    "df_test = read_data('test')"
   ]
  },
  {
   "cell_type": "code",
   "execution_count": 5,
   "metadata": {},
   "outputs": [
    {
     "data": {
      "text/plain": [
       "(array([1.567e+03, 5.714e+03, 6.679e+03, 3.463e+03, 2.122e+03, 1.522e+03,\n",
       "        1.015e+03, 7.230e+02, 5.770e+02, 3.940e+02, 3.010e+02, 2.160e+02,\n",
       "        2.030e+02, 1.220e+02, 1.100e+02, 9.900e+01, 1.000e+02, 3.900e+01,\n",
       "        7.000e+00, 3.000e+00, 5.000e+00, 2.000e+00, 2.000e+00, 2.000e+00,\n",
       "        0.000e+00, 1.000e+00, 1.000e+00, 2.000e+00, 0.000e+00, 0.000e+00,\n",
       "        2.000e+00, 0.000e+00, 0.000e+00, 0.000e+00, 0.000e+00, 0.000e+00,\n",
       "        0.000e+00, 0.000e+00, 0.000e+00, 1.000e+00]),\n",
       " array([   52. ,   393.3,   734.6,  1075.9,  1417.2,  1758.5,  2099.8,\n",
       "         2441.1,  2782.4,  3123.7,  3465. ,  3806.3,  4147.6,  4488.9,\n",
       "         4830.2,  5171.5,  5512.8,  5854.1,  6195.4,  6536.7,  6878. ,\n",
       "         7219.3,  7560.6,  7901.9,  8243.2,  8584.5,  8925.8,  9267.1,\n",
       "         9608.4,  9949.7, 10291. , 10632.3, 10973.6, 11314.9, 11656.2,\n",
       "        11997.5, 12338.8, 12680.1, 13021.4, 13362.7, 13704. ]),\n",
       " <a list of 40 Patch objects>)"
      ]
     },
     "execution_count": 5,
     "metadata": {},
     "output_type": "execute_result"
    },
    {
     "data": {
      "image/png": "[encoded data removed]",
      "text/plain": [
       "<Figure size 432x288 with 1 Axes>"
      ]
     },
     "metadata": {
      "needs_background": "light"
     },
     "output_type": "display_data"
    }
   ],
   "source": [
    "lengths = []\n",
    "for _, row in df_train.iterrows():\n",
    "    lengths.append(len(row['text']))\n",
    "plt.hist(lengths, bins = 40)"
   ]
  },
  {
   "cell_type": "code",
   "execution_count": 6,
   "metadata": {},
   "outputs": [
    {
     "name": "stderr",
     "output_type": "stream",
     "text": [
      "[nltk_data] Downloading package stopwords to\n",
      "[nltk_data]     C:\\Users\\duran\\AppData\\Roaming\\nltk_data...\n",
      "[nltk_data]   Package stopwords is already up-to-date!\n"
     ]
    }
   ],
   "source": [
    "nltk.download('stopwords')\n",
    "def text_preprocessing(df):\n",
    "    df_preprocessed = df.copy()\n",
    "    corpus = []\n",
    "    for _, row in df.iterrows():\n",
    "        review = re.sub('[^a-zA-Z]', ' ', row['text'])\n",
    "        review = review.lower()\n",
    "        review = review.split()\n",
    "        ps = PorterStemmer()\n",
    "        review = [ps(word) for word in review if not word in set(stopwords.words('english'))]\n",
    "        review = ' '.join(review)\n",
    "        corpus.append(review)\n",
    "    df_preprocessed['text'] = corpus\n",
    "    return df_preprocessed"
   ]
  },
  {
   "cell_type": "code",
   "execution_count": null,
   "metadata": {},
   "outputs": [],
   "source": [
    "df_train_preprocessed = text_preprocessing(df_train)\n",
    "df_test_preprocessed = text_preprocessing(df_test)"
   ]
  },
  {
   "cell_type": "code",
   "execution_count": null,
   "metadata": {},
   "outputs": [],
   "source": [
    "df_train_preprocessed.to_csv('preprocessed_train.csv')\n",
    "df_test_preprocessed.to_csv('preprocessed_test.csv')"
   ]
  },
  {
   "cell_type": "code",
   "execution_count": 7,
   "metadata": {},
   "outputs": [],
   "source": [
    "df_train_preprocessed = pd.read_csv('preprocessed_train.csv')\n",
    "df_test_preprocessed = pd.read_csv('preprocessed_test.csv')"
   ]
  },
  {
   "cell_type": "code",
   "execution_count": 55,
   "metadata": {},
   "outputs": [],
   "source": [
    "X_train, X_test, y_train, y_test = train_test_split(df_train_preprocessed['text'].values, df_train_preprocessed[['rating','label']].values, test_size = 0.2, random_state = 0)"
   ]
  },
  {
   "cell_type": "code",
   "execution_count": 22,
   "metadata": {},
   "outputs": [],
   "source": [
    "y_train_rat = y_train[:,0]\n",
    "y_train_lab = y_train[:,1]\n",
    "\n",
    "y_test_rat = y_test[:,0]\n",
    "y_test_lab = y_test[:,1]"
   ]
  },
  {
   "cell_type": "code",
   "execution_count": 56,
   "metadata": {},
   "outputs": [],
   "source": [
    "cv = CountVectorizer(max_features = 5000, ngram_range = (1,2)).fit(X_train)\n"
   ]
  },
  {
   "cell_type": "code",
   "execution_count": 61,
   "metadata": {},
   "outputs": [],
   "source": [
    "X_train = cv.transform(X_train).toarray()\n",
    "X_test = cv.transform(X_test).toarray()"
   ]
  },
  {
   "cell_type": "code",
   "execution_count": 13,
   "metadata": {},
   "outputs": [
    {
     "data": {
      "text/plain": [
       "RandomForestClassifier(bootstrap=True, ccp_alpha=0.0, class_weight=None,\n",
       "                       criterion='gini', max_depth=None, max_features='auto',\n",
       "                       max_leaf_nodes=None, max_samples=None,\n",
       "                       min_impurity_decrease=0.0, min_impurity_split=None,\n",
       "                       min_samples_leaf=1, min_samples_split=2,\n",
       "                       min_weight_fraction_leaf=0.0, n_estimators=100,\n",
       "                       n_jobs=None, oob_score=False, random_state=None,\n",
       "                       verbose=0, warm_start=False)"
      ]
     },
     "execution_count": 13,
     "metadata": {},
     "output_type": "execute_result"
    }
   ],
   "source": [
    "clf = RandomForestClassifier()\n",
    "clf.fit(X_train, y_train_lab)"
   ]
  },
  {
   "cell_type": "code",
   "execution_count": 18,
   "metadata": {},
   "outputs": [
    {
     "data": {
      "text/plain": [
       "0.8449689937987598"
      ]
     },
     "execution_count": 18,
     "metadata": {},
     "output_type": "execute_result"
    }
   ],
   "source": [
    "clf.score(X_test,  y_test_lab)"
   ]
  },
  {
   "cell_type": "code",
   "execution_count": 62,
   "metadata": {},
   "outputs": [],
   "source": [
    "inp = Input(shape=(5000,))\n",
    "x = Dense(256)(inp)\n",
    "out = Dense(1, activation= 'linear')(x)\n",
    "model = Model(inputs=[inp], outputs=out)\n",
    "model.compile(loss='mse',\n",
    "              optimizer='adam',\n",
    "              metrics=['mae'])"
   ]
  },
  {
   "cell_type": "code",
   "execution_count": 63,
   "metadata": {},
   "outputs": [
    {
     "name": "stdout",
     "output_type": "stream",
     "text": [
      "Train on 17995 samples, validate on 2000 samples\n",
      "Epoch 1/10\n",
      "17995/17995 [==============================] - 1s 46us/sample - loss: 13.1811 - mae: 2.8162 - val_loss: 9.9104 - val_mae: 2.4595\n",
      "Epoch 2/10\n",
      "17995/17995 [==============================] - 1s 37us/sample - loss: 7.7180 - mae: 2.2102 - val_loss: 8.8066 - val_mae: 2.3298\n",
      "Epoch 3/10\n",
      "17995/17995 [==============================] - 1s 36us/sample - loss: 6.3404 - mae: 2.0187 - val_loss: 8.0343 - val_mae: 2.2379\n",
      "Epoch 4/10\n",
      "17995/17995 [==============================] - 1s 36us/sample - loss: 5.9541 - mae: 1.9464 - val_loss: 7.7723 - val_mae: 2.2290\n",
      "Epoch 5/10\n",
      "17995/17995 [==============================] - 1s 35us/sample - loss: 5.6200 - mae: 1.8915 - val_loss: 7.8442 - val_mae: 2.2392\n",
      "Epoch 6/10\n",
      "17995/17995 [==============================] - 1s 36us/sample - loss: 5.2117 - mae: 1.8408 - val_loss: 7.5052 - val_mae: 2.2012\n",
      "Epoch 7/10\n",
      "17995/17995 [==============================] - 1s 37us/sample - loss: 4.9892 - mae: 1.8134 - val_loss: 7.4939 - val_mae: 2.2086\n",
      "Epoch 8/10\n",
      "17995/17995 [==============================] - 1s 35us/sample - loss: 5.0451 - mae: 1.8080 - val_loss: 7.5157 - val_mae: 2.2095\n",
      "Epoch 9/10\n",
      "17995/17995 [==============================] - 1s 36us/sample - loss: 4.8441 - mae: 1.7874 - val_loss: 7.4618 - val_mae: 2.1961\n",
      "Epoch 10/10\n",
      "17995/17995 [==============================] - 1s 36us/sample - loss: 4.7361 - mae: 1.7702 - val_loss: 7.6112 - val_mae: 2.2160\n"
     ]
    }
   ],
   "source": [
    "hist = model.fit(X_train, y_train_rat, validation_split=0.1, epochs=10, batch_size=128, verbose =1)"
   ]
  },
  {
   "cell_type": "code",
   "execution_count": 64,
   "metadata": {},
   "outputs": [],
   "source": [
    "preds = model.predict(X_test)"
   ]
  },
  {
   "cell_type": "code",
   "execution_count": 65,
   "metadata": {},
   "outputs": [
    {
     "name": "stdout",
     "output_type": "stream",
     "text": [
      "0.8249649929985997\n"
     ]
    }
   ],
   "source": [
    "count = 0\n",
    "for i in range(len(preds)):\n",
    "    if preds[i] < 5 and y_test[:,1][i] == 0:\n",
    "        count+=1\n",
    "    if preds[i] > 5 and y_test[:,1][i] == 1:\n",
    "        count+=1\n",
    "print(count/len(preds))"
   ]
  },
  {
   "cell_type": "code",
   "execution_count": 19,
   "metadata": {},
   "outputs": [],
   "source": [
    "with open('imdb.vocab') as f:\n",
    "    vocab = f.read().split('\\n')\n",
    "    \n",
    "vocab = dict(zip(vocab, [*range(1,len(vocab)+1)]))"
   ]
  },
  {
   "cell_type": "code",
   "execution_count": 20,
   "metadata": {},
   "outputs": [],
   "source": [
    "embeddings_dict = {}\n",
    "with open(\"glove.6B.100d.txt\", 'r', encoding=\"utf-8\") as f:\n",
    "    for line in f:\n",
    "        values = line.split()\n",
    "        word = values[0]\n",
    "        vector = np.asarray(values[1:], \"float32\")\n",
    "        embeddings_dict[word] = vector"
   ]
  },
  {
   "cell_type": "code",
   "execution_count": 78,
   "metadata": {},
   "outputs": [],
   "source": [
    "def text_preprocessing_for_word2vec(df):\n",
    "    df_preprocessed = df.copy()\n",
    "    corpus = []\n",
    "    for _, row in df.iterrows():\n",
    "        review = re.sub('[^a-zA-Z]', ' ', row['text'])\n",
    "        review = review.lower()\n",
    "        review = [word for word in review if not word in set(stopwords.words('english'))]\n",
    "        corpus.append(review)\n",
    "    df_preprocessed['text'] = corpus\n",
    "    return df_preprocessed"
   ]
  },
  {
   "cell_type": "code",
   "execution_count": null,
   "metadata": {},
   "outputs": [],
   "source": [
    "df_train_preprocessed = text_preprocessing_for_word2vec(df_train)"
   ]
  },
  {
   "cell_type": "code",
   "execution_count": 80,
   "metadata": {},
   "outputs": [],
   "source": [
    "df_train_preprocessed.to_csv('pre_train.csv')"
   ]
  },
  {
   "cell_type": "code",
   "execution_count": null,
   "metadata": {},
   "outputs": [],
   "source": [
    "df_train_preprocessed = pd.read_csv('pre_train.csv')"
   ]
  },
  {
   "cell_type": "code",
   "execution_count": 81,
   "metadata": {},
   "outputs": [],
   "source": [
    "df_train_preprocessed['text'] = df_train_preprocessed.apply(lambda row: row['text'].split(' '), axis = 1)"
   ]
  },
  {
   "cell_type": "code",
   "execution_count": 82,
   "metadata": {},
   "outputs": [],
   "source": [
    "X_train, X_test, y_train, y_test = train_test_split(df_train_preprocessed['text'].values, df_train_preprocessed[['rating','label']].values, test_size = 0.2, random_state = 0)"
   ]
  },
  {
   "cell_type": "code",
   "execution_count": 83,
   "metadata": {},
   "outputs": [],
   "source": [
    "sequences = [[vocab.get(wrd, 0) for wrd in comment] for comment in X_train]\n",
    "test_sequences = [[vocab.get(wrd, 0)  for wrd in comment] \n",
    "                  for comment in X_test]"
   ]
  },
  {
   "cell_type": "code",
   "execution_count": 84,
   "metadata": {},
   "outputs": [],
   "source": [
    "seq_len = 200"
   ]
  },
  {
   "cell_type": "code",
   "execution_count": 85,
   "metadata": {},
   "outputs": [],
   "source": [
    "X_train = pad_sequences(sequences, maxlen=seq_len, \n",
    "                     padding=\"pre\", truncating=\"post\")\n",
    "\n",
    "X_test = pad_sequences(test_sequences, maxlen=seq_len, \n",
    "                     padding=\"pre\", truncating=\"post\")"
   ]
  },
  {
   "cell_type": "code",
   "execution_count": 86,
   "metadata": {},
   "outputs": [],
   "source": [
    "vm_dim = 100\n",
    "nb_words = len(vocab)\n",
    "wv_matrix = np.zeros((nb_words, vm_dim))\n",
    "for word, i in vocab.items():\n",
    "    try:\n",
    "        wv_matrix[i] = embeddings_dict[word]\n",
    "    except:\n",
    "        pass  "
   ]
  },
  {
   "cell_type": "code",
   "execution_count": 89,
   "metadata": {},
   "outputs": [],
   "source": [
    "wv_layer = Embedding(nb_words,\n",
    "                     vm_dim,\n",
    "                     mask_zero=False,\n",
    "                     weights=[wv_matrix],\n",
    "                     input_length=seq_len,\n",
    "                     trainable=True)\n",
    "\n",
    "comment_input = Input(shape=(seq_len,), dtype='int32')\n",
    "embedded_sequences = wv_layer(comment_input)\n",
    "\n",
    "embedded_sequences = SpatialDropout1D(0.2)(embedded_sequences)\n",
    "x = Bidirectional(LSTM(64, return_sequences=False))(embedded_sequences)\n",
    "x = Dropout(0.2)(x)\n",
    "preds = Dense(1, activation='linear')(x)\n",
    "\n",
    "model_nn = Model(inputs=[comment_input], outputs=preds)\n",
    "model_nn.compile(loss='mse',\n",
    "              optimizer='adam',\n",
    "              metrics=['mae'])"
   ]
  },
  {
   "cell_type": "code",
   "execution_count": 90,
   "metadata": {
    "scrolled": true
   },
   "outputs": [
    {
     "name": "stdout",
     "output_type": "stream",
     "text": [
      "Train on 17995 samples, validate on 2000 samples\n",
      "Epoch 1/10\n",
      "17995/17995 [==============================] - 12s 692us/sample - loss: 13.6242 - mae: 3.3317 - val_loss: 11.9562 - val_mae: 3.2440\n",
      "Epoch 2/10\n",
      "17995/17995 [==============================] - 10s 579us/sample - loss: 10.8051 - mae: 2.9488 - val_loss: 9.5320 - val_mae: 2.7515\n",
      "Epoch 3/10\n",
      "17995/17995 [==============================] - 10s 575us/sample - loss: 9.6753 - mae: 2.6907 - val_loss: 7.0588 - val_mae: 2.1906\n",
      "Epoch 4/10\n",
      "17995/17995 [==============================] - 11s 589us/sample - loss: 6.0376 - mae: 1.9317 - val_loss: 6.0646 - val_mae: 1.9574\n",
      "Epoch 5/10\n",
      "17995/17995 [==============================] - 10s 582us/sample - loss: 4.2895 - mae: 1.5685 - val_loss: 4.8099 - val_mae: 1.6539\n",
      "Epoch 6/10\n",
      "17995/17995 [==============================] - 11s 587us/sample - loss: 3.3522 - mae: 1.3747 - val_loss: 4.7269 - val_mae: 1.5995\n",
      "Epoch 7/10\n",
      "17995/17995 [==============================] - 10s 577us/sample - loss: 2.6629 - mae: 1.2205 - val_loss: 4.8847 - val_mae: 1.6033\n",
      "Epoch 8/10\n",
      "17995/17995 [==============================] - 11s 586us/sample - loss: 2.2056 - mae: 1.1186 - val_loss: 5.0120 - val_mae: 1.6124\n",
      "Epoch 9/10\n",
      "17995/17995 [==============================] - 10s 575us/sample - loss: 1.8955 - mae: 1.0433 - val_loss: 5.1543 - val_mae: 1.6305\n",
      "Epoch 10/10\n",
      "17995/17995 [==============================] - 11s 588us/sample - loss: 1.6627 - mae: 0.9805 - val_loss: 5.2205 - val_mae: 1.6285\n"
     ]
    }
   ],
   "source": [
    "hist = model_nn.fit(X_train, y_train_rat, validation_split=0.1, epochs=10, batch_size=128, verbose =1)"
   ]
  },
  {
   "cell_type": "code",
   "execution_count": 91,
   "metadata": {},
   "outputs": [],
   "source": [
    "preds = model_nn.predict(X_test)"
   ]
  },
  {
   "cell_type": "code",
   "execution_count": 92,
   "metadata": {},
   "outputs": [
    {
     "name": "stdout",
     "output_type": "stream",
     "text": [
      "0.8449689937987598\n"
     ]
    }
   ],
   "source": [
    "count = 0\n",
    "for i in range(len(preds)):\n",
    "    if preds[i] < 5 and y_test[:,1][i] == 0:\n",
    "        count+=1\n",
    "    if preds[i] > 5 and y_test[:,1][i] == 1:\n",
    "        count+=1\n",
    "print(count/len(preds))"
   ]
  }
 ],
 "metadata": {
  "kernelspec": {
   "display_name": "Python 3",
   "language": "python",
   "name": "python3"
  },
  "language_info": {
   "codemirror_mode": {
    "name": "ipython",
    "version": 3
   },
   "file_extension": ".py",
   "mimetype": "text/x-python",
   "name": "python",
   "nbconvert_exporter": "python",
   "pygments_lexer": "ipython3",
   "version": "3.7.6"
  }
 },
 "nbformat": 4,
 "nbformat_minor": 4
}
